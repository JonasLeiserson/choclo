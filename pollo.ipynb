{
 "cells": [
  {
   "cell_type": "code",
   "execution_count": 2,
   "metadata": {},
   "outputs": [],
   "source": [
    "import pandas as pd"
   ]
  },
  {
   "cell_type": "code",
   "execution_count": 24,
   "metadata": {},
   "outputs": [
    {
     "data": {
      "text/plain": [
       "np.int64(15)"
      ]
     },
     "execution_count": 24,
     "metadata": {},
     "output_type": "execute_result"
    }
   ],
   "source": [
    "\n",
    "file_path = \"qatar.csv\"\n",
    "\n",
    "Partidos: pd.DataFrame = pd.read_csv(file_path)\n",
    "Partidos\n",
    "\n",
    "partidosLocales1: pd.Series = Partidos[\"1\"] == \"ARGENTINA\"\n",
    "partidosLocales2: pd.Series = Partidos[\"2\"] == \"ARGENTINA\"\n",
    "\n",
    "PartidosArgentina = Partidos[partidosLocales1]\n",
    "PartidosArgentina2 = Partidos[partidosLocales2]\n",
    "\n",
    "GolesArg1 = PartidosArgentina[\"1_goals\"].sum()\n",
    "GolesArg2 = PartidosArgentina2[\"2_goals\"].sum()\n",
    "\n",
    "golesTotales = GolesArg1 + GolesArg2\n",
    "golesTotales"
   ]
  }
 ],
 "metadata": {
  "kernelspec": {
   "display_name": "Python 3",
   "language": "python",
   "name": "python3"
  },
  "language_info": {
   "codemirror_mode": {
    "name": "ipython",
    "version": 3
   },
   "file_extension": ".py",
   "mimetype": "text/x-python",
   "name": "python",
   "nbconvert_exporter": "python",
   "pygments_lexer": "ipython3",
   "version": "3.13.2"
  }
 },
 "nbformat": 4,
 "nbformat_minor": 2
}
